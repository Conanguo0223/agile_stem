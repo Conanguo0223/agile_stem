{
 "cells": [
  {
   "cell_type": "code",
   "execution_count": 2,
   "id": "06a243eb",
   "metadata": {},
   "outputs": [],
   "source": [
    "import simpy"
   ]
  },
  {
   "cell_type": "code",
   "execution_count": 8,
   "id": "172a6b32",
   "metadata": {},
   "outputs": [
    {
     "name": "stdout",
     "output_type": "stream",
     "text": [
      "0\n",
      "now=1, value=42\n",
      "1\n"
     ]
    }
   ],
   "source": [
    "import simpy\n",
    "\n",
    "def example(env):\n",
    "    value = yield env.timeout(1, value=42)\n",
    "    print('now=%d, value=%d' % (env.now, value))\n",
    "\n",
    "env = simpy.Environment()\n",
    "p = env.process(example(env))\n",
    "print(env.now)\n",
    "env.run()\n",
    "print(env.now)"
   ]
  },
  {
   "cell_type": "code",
   "execution_count": null,
   "id": "86e1c3c7",
   "metadata": {},
   "outputs": [],
   "source": []
  }
 ],
 "metadata": {
  "kernelspec": {
   "display_name": "agilestem",
   "language": "python",
   "name": "python3"
  },
  "language_info": {
   "codemirror_mode": {
    "name": "ipython",
    "version": 3
   },
   "file_extension": ".py",
   "mimetype": "text/x-python",
   "name": "python",
   "nbconvert_exporter": "python",
   "pygments_lexer": "ipython3",
   "version": "3.9.21"
  }
 },
 "nbformat": 4,
 "nbformat_minor": 5
}
